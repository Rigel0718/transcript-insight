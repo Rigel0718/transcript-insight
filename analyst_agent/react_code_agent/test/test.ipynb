{
 "cells": [
  {
   "cell_type": "code",
   "execution_count": 1,
   "id": "00c69f90",
   "metadata": {},
   "outputs": [
    {
     "data": {
      "text/plain": [
       "True"
      ]
     },
     "execution_count": 1,
     "metadata": {},
     "output_type": "execute_result"
    }
   ],
   "source": [
    "from dotenv import load_dotenv\n",
    "\n",
    "load_dotenv()"
   ]
  },
  {
   "cell_type": "code",
   "execution_count": 4,
   "id": "15359f3f",
   "metadata": {},
   "outputs": [],
   "source": [
    "import os, sys"
   ]
  },
  {
   "cell_type": "code",
   "execution_count": 16,
   "id": "7a9a6d78",
   "metadata": {},
   "outputs": [],
   "source": [
    "sys.path.append(os.path.abspath(os.path.join(os.getcwd(), \"../../..\")))"
   ]
  },
  {
   "cell_type": "code",
   "execution_count": null,
   "id": "0cfde5c9",
   "metadata": {},
   "outputs": [],
   "source": [
    "from analyst_agent.react_code_agent.state import AgentContextState\n",
    "from analyst_agent.react_code_agent.graph import react_code_agent\n",
    "from analyst_agent.react_code_agent.logger import RunLogger\n",
    "from analyst_agent.react_code_agent.base import Env"
   ]
  },
  {
   "cell_type": "code",
   "execution_count": 19,
   "id": "88871805",
   "metadata": {},
   "outputs": [],
   "source": [
    "# init_logger\n",
    "logger = RunLogger()"
   ]
  },
  {
   "cell_type": "code",
   "execution_count": 21,
   "id": "f0350793",
   "metadata": {},
   "outputs": [],
   "source": [
    "# init_config_env\n",
    "from datetime import datetime\n",
    "env = Env(\n",
    "    work_dir='./result/',\n",
    "    user_id='TEST_01',\n",
    "    run_logger=logger\n",
    ")\n",
    "\n",
    "run_id = datetime.now().strftime(\"%Y-%m-%d-%H-%M%S\")\n",
    "\n",
    "config = {\"configurable\": {\"thread_id\": run_id,\"max_iterations\": 30}}"
   ]
  },
  {
   "cell_type": "code",
   "execution_count": 22,
   "id": "4c1e047e",
   "metadata": {},
   "outputs": [],
   "source": [
    "# init graph\n",
    "graph = react_code_agent(verbose=True, env=env, track_time=True)"
   ]
  },
  {
   "cell_type": "code",
   "execution_count": 24,
   "id": "23dbd225",
   "metadata": {},
   "outputs": [],
   "source": [
    "import json\n",
    "file_path = 'data/virtual_data01.json'\n",
    "with open(file_path, 'r', encoding='utf-8') as f:\n",
    "    data_dict = json.load(f)\n",
    "\n",
    "text_for_llm = json.dumps(data_dict, ensure_ascii=False, indent=2)"
   ]
  },
  {
   "cell_type": "code",
   "execution_count": 25,
   "id": "9f7d4b24",
   "metadata": {},
   "outputs": [],
   "source": [
    "query1 = '학기별 GPA(학점)변화를 볼 수 있는 그래프를 그려줘줘'\n",
    "query2 = '전체 이수 과목(credit_course)에서 전공과 비전공 이수학점(credits) 비율을 원 그래프를 활용해서 표현해줘'"
   ]
  },
  {
   "cell_type": "code",
   "execution_count": 28,
   "id": "2aa8ec63",
   "metadata": {},
   "outputs": [],
   "source": [
    "input_state : AgentContextState = {\n",
    "    'user_query': query1,\n",
    "    'dataset': text_for_llm,\n",
    "    'run_id':run_id,\n",
    "    'attempts': {},\n",
    "    'errors': [],\n",
    "    'chart_name':'',\n",
    "    'chart_desc':'',\n",
    "    'chart_code': '',\n",
    "    'img_path': '',\n",
    "    'csv_path':'',\n",
    "    'df_code': '',\n",
    "    'df_name':'',\n",
    "    'df_desc':'',\n",
    "    'df_meta':{},\n",
    "    'previous_node':'_START_',\n",
    "    'next_action': ''\n",
    "}"
   ]
  },
  {
   "cell_type": "code",
   "execution_count": 29,
   "id": "04b715f1",
   "metadata": {},
   "outputs": [
    {
     "name": "stderr",
     "output_type": "stream",
     "text": [
      "2025-08-20 16:22:20,729 [INFO] [RouterNode] agent.TEST_01.2025-08-20-16-1827.RouterNode: ====< START >====\n",
      "2025-08-20 16:22:20,737 [INFO] [RouterNode] agent.TEST_01.2025-08-20-16-1827.RouterNode: [RouterNode] LLM chain constructed (prompt → llm → structured output)\n",
      "2025-08-20 16:22:20,738 [DEBUG] [RouterNode] agent.TEST_01.2025-08-20-16-1827.RouterNode: [RouterNode] Input preview: {'user_query': '학기별 GPA(학점)변화를 볼 수 있는 그래프를 그려줘줘', 'df_name': '', 'df_desc': '', 'chart_name': '', 'chart_desc': '', 'previous_node': '_START_'}\n",
      "2025-08-20 16:22:20,739 [INFO] [RouterNode] agent.TEST_01.2025-08-20-16-1827.RouterNode: [RouterNode] Invoking LLM for route decision …\n",
      "2025-08-20 16:22:21,932 [INFO] [RouterNode] agent.TEST_01.2025-08-20-16-1827.RouterNode: [RouterNode] LLM invocation completed\n",
      "2025-08-20 16:22:21,934 [INFO] [RouterNode] agent.TEST_01.2025-08-20-16-1827.RouterNode: [RouterNode] Decision → action=to_gen_df\n",
      "2025-08-20 16:22:21,935 [DEBUG] [RouterNode] agent.TEST_01.2025-08-20-16-1827.RouterNode: [RouterNode] Reason: 차트 요청이지만 DF가 없어 먼저 데이터프레임을 생성해야 합니다.\n",
      "2025-08-20 16:22:21,936 [DEBUG] [RouterNode] agent.TEST_01.2025-08-20-16-1827.RouterNode: [RouterNode] Notes: x=학기, y=GPA 시계열 데이터 필요\n",
      "2025-08-20 16:22:21,936 [INFO] [RouterNode] agent.TEST_01.2025-08-20-16-1827.RouterNode: to_gen_df\n",
      "2025-08-20 16:22:21,938 [INFO] [RouterNode] agent.TEST_01.2025-08-20-16-1827.RouterNode:  Finished in 1.21 second\n",
      "2025-08-20 16:22:21,939 [INFO] [RouterNode] agent.TEST_01.2025-08-20-16-1827.RouterNode: ====< END >====\n",
      "2025-08-20 16:22:21,944 [INFO] [DataFrameAgentExecutorNode] agent.TEST_01.2025-08-20-16-1827.DataFrameAgentExecutorNode: ====< START >====\n",
      "2025-08-20 16:22:22,014 [INFO] [DataFrameCodeGeneratorNode] agent.TEST_01.2025-08-20-16-1827.DataFrameCodeGeneratorNode: LLM chain constructed (prompt → llm → JSON parser)\n",
      "2025-08-20 16:22:22,015 [DEBUG] [DataFrameCodeGeneratorNode] agent.TEST_01.2025-08-20-16-1827.DataFrameCodeGeneratorNode: chain input preview: {'user_query': '학기별 GPA(학점)변화를 볼 수 있는 그래프를 그려줘줘', 'dataset': '{\\n  \"student_info\": {\\n    \"name\": \"김민지\",\\n    \"university\": \"연세대학교\",\\n    \"department\": \"컴퓨터과학과\",\\n    \"degree\": \"공학사\",\\n    \"date_of_birth\": \"1998-02-15\",\\n    \"gender\": \"여\",\\n    \"admission_date\": \"2017-03-02\",\\n    \"graduation_date\": \"2021-08-17\",\\n    \"degree_number\": \"연세대2021(학)1234\"\\n  },\\n  \"semesters\": [\\n    {\\n      \"year\": 2017,\\n      \"semester\": \"1학기\",\\n      \"courses\": [\\n        {\\n          \"name\": \"프로그래밍기초\",\\n          \"grade\": \"A0\",\\n          \"credits\": 3.0,\\n          \"category\": \"D\"\\n        },\\n        {\\n          \"name\": \"미적분학 I\",\\n          \"grade\": \"B0\",\\n          \"credits\": 3.0,\\n          \"category\": \"D\"\\n        },\\n        {\\n          \"name\": \"컴퓨터개론\",\\n          \"grade\": \"A0\",\\n          \"credits\": 3.0,\\n          \"category\": \"D\"\\n        },\\n        {\\n          \"name\": \"영어읽기\",\\n          \"grade\": \"B+\",\\n          \"credits\": 2.0,\\n          \"category\": \"V\"\\n        },\\n        {\\n          \"name\": \"일반물리학 I\",\\n          \"grade\": \"B+\",\\n          \"credits\": 3.0,\\n          \"category\": \"Y\"\\n        },\\n        {\\n          \"name\": \"대학생활과진로\",\\n          \"grade\": \"P\",\\n          \"credits\": 1.0,\\n          \"category\": \"Z\"\\n        }\\n      ],\\n      \"total_credits\": 15.0,\\n      \"gpa\": 3.61,\\n      \"percentage\": 91.1\\n    },\\n    {\\n      \"year\": 2017,\\n      \"semester\": \"2학기\",\\n      \"courses\": [\\n        {\\n          \"name\": \"자료구조\",\\n          \"grade\": \"A+\",\\n          \"credits\": 3.0,\\n          \"category\": \"D\"\\n        },\\n        {\\n          \"name\": \"선형대수학\",\\n          \"grade\": \"A0\",\\n          \"credits\": 3.0,\\n          \"category\": \"D\"\\n        },\\n        {\\n          \"name\": \"이산수학\",\\n          \"grade\": \"B+\",\\n          \"credits\": 3.0,\\n          \"category\": \"D\"\\n        },\\n        {\\n          \"name\": \"디지털논리\",\\n          \"grade\": \"A0\",\\n          \"credits\": 3.0,\\n          \"category\": \"D\"\\n        },\\n        {\\n          \"name\": \"한국사\",\\n          \"grade\": \"B0\",\\n          \"credits\": 3.0,\\n          \"category\": \"Y\"\\n        },\\n        {\\n          \"name\": \"체육\",\\n          \"grade\": \"P\",\\n          \"credits\": 1.0,\\n          \"category\": \"Z\"\\n        }\\n      ],\\n      \"total_credits\": 16.0,\\n      \"gpa\": 3.8,\\n      \"percentage\": 93.0\\n    },\\n    {\\n      \"year\": 2018,\\n      \"semester\": \"1학기\",\\n      \"courses\": [\\n        {\\n          \"name\": \"알고리즘\",\\n          \"grade\": \"A0\",\\n          \"credits\": 3.0,\\n          \"category\": \"D\"\\n        },\\n        {\\n          \"name\": \"컴퓨터구조\",\\n          \"grade\": \"B+\",\\n          \"credits\": 3.0,\\n          \"category\": \"D\"\\n        },\\n        {\\n          \"name\": \"확률및통계\",\\n          \"grade\": \"B0\",\\n          \"credits\": 3.0,\\n          \"category\": \"D\"\\n        },\\n        {\\n          \"name\": \"운영체제\",\\n          \"grade\": \"A0\",\\n          \"credits\": 3.0,\\n          \"category\": \"D\"\\n        },\\n        {\\n          \"name\": \"글쓰기\",\\n          \"grade\": \"A0\",\\n          \"credits\": 2.0,\\n          \"category\": \"V\"\\n        },\\n        {\\n          \"name\": \"영어회화\",\\n          \"grade\": \"B+\",\\n          \"credits\": 2.0,\\n          \"category\": \"V\"\\n        }\\n      ],\\n      \"total_credits\": 16.0,\\n      \"gpa\": 3.66,\\n      \"percentage\": 91.6\\n    },\\n    {\\n      \"year\": 2018,\\n      \"semester\": \"2학기\",\\n      \"courses\": [\\n        {\\n          \"name\": \"데이터베이스\",\\n          \"grade\": \"A0\",\\n          \"credits\": 3.0,\\n          \"category\": \"D\"\\n        },\\n        {\\n          \"name\": \"컴퓨터네트워크\",\\n          \"grade\": \"B+\",\\n          \"credits\": 3.0,\\n          \"category\": \"D\"\\n        },\\n        {\\n          \"name\": \"소프트웨어공학\",\\n          \"grade\": \"A0\",\\n          \"credits\": 3.0,\\n          \"category\": \"D\"\\n        },\\n        {\\n          \"name\": \"전자기학\",\\n          \"grade\": \"B0\",\\n          \"credits\": 3.0,\\n          \"category\": \"D\"\\n        },\\n        {\\n          \"name\": \"경제학개론\",\\n          \"grade\": \"A0\",\\n          \"credits\": 3.0,\\n          \"category\": \"Y\"\\n        },\\n        {\\n          \"name\": \"철학개론\",\\n          \"grade\": \"B+\",\\n          \"credits\": 3.0,\\n          \"category\": \"Y\"\\n        },\\n        {\\n          \"name\": \"합창단\",\\n          \"grade\": \"P\",\\n          \"credits\": 1.0,\\n          \"category\": \"Z\"\\n        }\\n      ],\\n      \"total_credits\": 19.0,\\n      \"gpa\": 3.67,\\n      \"percentage\": 91.7\\n    },\\n    {\\n      \"year\": 2019,\\n      \"semester\": \"1학기\",\\n      \"courses\": [\\n        {\\n          \"name\": \"인공지능개론\",\\n          \"grade\": \"A+\",\\n          \"credits\": 3.0,\\n          \"category\": \"D\"\\n        },\\n        {\\n          \"name\": \"운영체제설계\",\\n          \"grade\": \"A0\",\\n          \"credits\": 3.0,\\n          \"category\": \"D\"\\n        },\\n        {\\n          \"name\": \"컴퓨터그래픽스\",\\n          \"grade\": \"B+\",\\n          \"credits\": 3.0,\\n          \"category\": \"D\"\\n        },\\n        {\\n          \"name\": \"수치해석\",\\n          \"grade\": \"B0\",\\n          \"credits\": 3.0,\\n          \"category\": \"D\"\\n        },\\n        {\\n          \"name\": \"현대문학\",\\n          \"grade\": \"B+\",\\n          \"credits\": 3.0,\\n          \"category\": \"Y\"\\n        },\\n        {\\n          \"name\": \"통계학\",\\n          \"grade\": \"A0\",\\n          \"credits\": 3.0,\\n          \"category\": \"D\"\\n        }\\n      ],\\n      \"total_credits\": 18.0,\\n      \"gpa\": 3.75,\\n      \"percentage\": 92.5\\n    },\\n    {\\n      \"year\": 2019,\\n      \"semester\": \"2학기\",\\n      \"courses\": [\\n        {\\n          \"name\": \"머신러닝\",\\n          \"grade\": \"A0\",\\n          \"credits\": 3.0,\\n          \"category\": \"D\"\\n        },\\n        {\\n          \"name\": \"컴퓨터보안\",\\n          \"grade\": \"B+\",\\n          \"credits\": 3.0,\\n          \"category\": \"D\"\\n        },\\n        {\\n          \"name\": \"임베디드시스템\",\\n          \"grade\": \"B0\",\\n          \"credits\": 3.0,\\n          \"category\": \"D\"\\n        },\\n        {\\n          \"name\": \"인간-컴퓨터 상호작용\",\\n          \"grade\": \"A0\",\\n          \"credits\": 3.0,\\n          \"category\": \"D\"\\n        },\\n        {\\n          \"name\": \"사회학개론\",\\n          \"grade\": \"B+\",\\n          \"credits\": 3.0,\\n          \"category\": \"Y\"\\n        },\\n        {\\n          \"name\": \"경영학원론\",\\n          \"grade\": \"B+\",\\n          \"credits\": 3.0,\\n          \"category\": \"Y\"\\n        },\\n        {\\n          \"name\": \"요가\",\\n          \"grade\": \"P\",\\n          \"credits\": 1.0,\\n          \"category\": \"Z\"\\n        }\\n      ],\\n      \"total_credits\": 19.0,\\n      \"gpa\": 3.58,\\n      \"percentage\": 90.8\\n    },\\n    {\\n      \"year\": 2020,\\n      \"semester\": \"1학기\",\\n      \"courses\": [\\n        {\\n          \"name\": \"데이터마이닝\",\\n          \"grade\": \"A0\",\\n          \"credits\": 3.0,\\n          \"category\": \"D\"\\n        },\\n        {\\n          \"name\": \"빅데이터개론\",\\n          \"grade\": \"A0\",\\n          \"credits\": 3.0,\\n          \"category\": \"D\"\\n        },\\n        {\\n          \"name\": \"컴파일러\",\\n          \"grade\": \"B+\",\\n          \"credits\": 3.0,\\n          \"category\": \"D\"\\n        },\\n        {\\n          \"name\": \"게임프로그래밍\",\\n          \"grade\": \"A+\",\\n          \"credits\": 3.0,\\n          \"category\": \"D\"\\n        },\\n        {\\n          \"name\": \"정보이론\",\\n          \"grade\": \"B0\",\\n          \"credits\": 3.0,\\n          \"category\": \"D\"\\n        },\\n        {\\n          \"name\": \"창업과경영\",\\n          \"grade\": \"A0\",\\n          \"credits\": 3.0,\\n          \"category\": \"Y\"\\n        },\\n        {\\n          \"name\": \"취업세미나\",\\n          \"grade\": \"P\",\\n          \"credits\": 1.0,\\n          \"category\": \"Z\"\\n        }\\n      ],\\n      \"total_credits\": 19.0,\\n      \"gpa\": 3.83,\\n      \"percentage\": 93.3\\n    },\\n    {\\n      \"year\": 2020,\\n      \"semester\": \"2학기\",\\n      \"courses\": [\\n        {\\n          \"name\": \"캡스톤디자인\",\\n          \"grade\": \"A+\",\\n          \"credits\": 3.0,\\n          \"category\": \"D\"\\n        },\\n        {\\n          \"name\": \"딥러닝\",\\n          \"grade\": \"A0\",\\n          \"credits\": 3.0,\\n          \"category\": \"D\"\\n        },\\n        {\\n          \"name\": \"분산시스템\",\\n          \"grade\": \"A0\",\\n          \"credits\": 3.0,\\n          \"category\": \"D\"\\n        },\\n        {\\n          \"name\": \"네트워크보안\",\\n          \"grade\": \"B+\",\\n          \"credits\": 3.0,\\n          \"category\": \"D\"\\n        },\\n        {\\n          \"name\": \"프로젝트관리\",\\n          \"grade\": \"B0\",\\n          \"credits\": 3.0,\\n          \"category\": \"D\"\\n        },\\n        {\\n          \"name\": \"문화예술과사회\",\\n          \"grade\": \"B0\",\\n          \"credits\": 3.0,\\n          \"category\": \"Y\"\\n        },\\n        {\\n          \"name\": \"미술의이해\",\\n          \"grade\": \"A0\",\\n          \"credits\": 2.0,\\n          \"category\": \"Z\"\\n        },\\n        {\\n          \"name\": \"디지털음악\",\\n          \"grade\": \"P\",\\n          \"credits\": 1.0,\\n          \"category\": \"Z\"\\n        }\\n      ],\\n      \"total_credits\": 21.0,\\n      \"gpa\": 3.7,\\n      \"percentage\": 92.0\\n    }\\n  ],\\n  \"credit_summary\": {\\n    \"total_credits\": 143.0,\\n    \"total_gpa_points\": 507.0,\\n    \"overall_gpa\": 3.7,\\n    \"overall_percentage\": 92.0,\\n    \"credits_by_category\": {\\n      \"교양필수(A)\": 0.0,\\n      \"학부기초(M)\": 0.0,\\n      \"기초공통(B)\": 0.0,\\n      \"기초교양(V)\": 6.0,\\n      \"전공필수(C)\": 0.0,\\n      \"전공기초교양(X)\": 0.0,\\n      \"전공선택(D)\": 102.0,\\n      \"핵심교양(Y)\": 27.0,\\n      \"교양선택(E)\": 0.0,\\n      \"자유교양(Z)\": 8.0,\\n      \"일반선택(F)\": 0.0,\\n      \"교직(H)\": 0.0,\\n      \"교양기초(K)\": 0.0,\\n      \"복수전공(J)\": 0.0,\\n      \"계열교양(L)\": 0.0,\\n      \"부전공(G)\": 0.0\\n    },\\n    \"multi_major_credits\": {\\n      \"2전공(계열교양)(PL)\": 0.0,\\n      \"2전공(전공기초교양)(PX)\": 0.0,\\n      \"2전공(학부기초)(PM)\": 0.0,\\n      \"2전공(전공)(PN)\": 0.0,\\n      \"3전공(계열교양)(QL)\": 0.0,\\n      \"3전공(전공기초교양)(QX)\": 0.0,\\n      \"3전공(학부기초)(QM)\": 0.0,\\n      \"3전공(전공)(QN)\": 0.0,\\n      \"연계융합(학부기초)(RM)\": 0.0,\\n      \"연계융합(전공)(RN)\": 0.0\\n    }\\n  }\\n}', 'error_log': ''}\n",
      "2025-08-20 16:22:22,016 [INFO] [DataFrameCodeGeneratorNode] agent.TEST_01.2025-08-20-16-1827.DataFrameCodeGeneratorNode: Invoking LLM for df_code/df_info …\n"
     ]
    },
    {
     "name": "stdout",
     "output_type": "stream",
     "text": [
      "---NEXT ACTION CHECKER---\n"
     ]
    },
    {
     "name": "stderr",
     "output_type": "stream",
     "text": [
      "2025-08-20 16:22:25,946 [INFO] [DataFrameCodeGeneratorNode] agent.TEST_01.2025-08-20-16-1827.DataFrameCodeGeneratorNode: LLM invocation done\n",
      "2025-08-20 16:22:25,947 [DEBUG] [DataFrameCodeGeneratorNode] agent.TEST_01.2025-08-20-16-1827.DataFrameCodeGeneratorNode: raw LLM result: df_code='df_name = \"semester_gpa_trend\"\\nimport json\\nimport pandas as pd\\ndata = json.loads(INPUT_DATA)\\n\\nrecords = []\\ntry:\\n    semesters = data.get(\\'semesters\\', [])\\n    for sem in semesters:\\n        year = sem.get(\\'year\\')\\n        semester = sem.get(\\'semester\\')\\n        gpa = sem.get(\\'gpa\\')\\n        if year is not None and semester is not None and gpa is not None:\\n            records.append({\\'year\\': year, \\'semester\\': semester, \\'gpa\\': gpa})\\nexcept Exception:\\n    records = []\\n\\nRESULT_DF = pd.DataFrame(records)\\n\\n# 정렬: 연도 오름차순, 학기 순서대로 정렬 (1학기, 2학기)\\nsemester_order = {\\'1학기\\': 1, \\'2학기\\': 2}\\ntry:\\n    RESULT_DF[\\'semester_order\\'] = RESULT_DF[\\'semester\\'].map(semester_order)\\n    RESULT_DF = RESULT_DF.sort_values(by=[\\'year\\', \\'semester_order\\']).reset_index(drop=True)\\n    RESULT_DF = RESULT_DF.drop(columns=[\\'semester_order\\'])\\nexcept Exception:\\n    pass\\n\\nsave_df(RESULT_DF, df_name)' df_name='semester_gpa_trend' df_desc='학기별 연도와 학기, GPA 정보를 추출하여 학기별 GPA 변화를 확인할 수 있도록 정리한 데이터프레임입니다.'\n",
      "2025-08-20 16:22:25,957 [INFO] [DataFrameCodeGeneratorNode] agent.TEST_01.2025-08-20-16-1827.DataFrameCodeGeneratorNode: df_code: df_name = \"semester_gpa_trend\"\n",
      "import json\n",
      "import pandas as pd\n",
      "data = json.loads(INPUT_DATA)\n",
      "\n",
      "records = []\n",
      "try:\n",
      "    semesters = data.get('semesters', [])\n",
      "    for sem in semesters:\n",
      "        year = sem.get('year')\n",
      "        semester = sem.get('semester')\n",
      "        gpa = sem.get('gpa')\n",
      "        if year is not None and semester is not None and gpa is not None:\n",
      "            records.append({'year': year, 'semester': semester, 'gpa': gpa})\n",
      "except Exception:\n",
      "    records = []\n",
      "\n",
      "RESULT_DF = pd.DataFrame(records)\n",
      "\n",
      "# 정렬: 연도 오름차순, 학기 순서대로 정렬 (1학기, 2학기)\n",
      "semester_order = {'1학기': 1, '2학기': 2}\n",
      "try:\n",
      "    RESULT_DF['semester_order'] = RESULT_DF['semester'].map(semester_order)\n",
      "    RESULT_DF = RESULT_DF.sort_values(by=['year', 'semester_order']).reset_index(drop=True)\n",
      "    RESULT_DF = RESULT_DF.drop(columns=['semester_order'])\n",
      "except Exception:\n",
      "    pass\n",
      "\n",
      "save_df(RESULT_DF, df_name)\n",
      "2025-08-20 16:22:25,958 [INFO] [DataFrameCodeGeneratorNode] agent.TEST_01.2025-08-20-16-1827.DataFrameCodeGeneratorNode: df_name: semester_gpa_trend\n",
      "2025-08-20 16:22:25,959 [INFO] [DataFrameCodeGeneratorNode] agent.TEST_01.2025-08-20-16-1827.DataFrameCodeGeneratorNode: df_desc: 학기별 연도와 학기, GPA 정보를 추출하여 학기별 GPA 변화를 확인할 수 있도록 정리한 데이터프레임입니다.\n",
      "2025-08-20 16:22:25,960 [DEBUG] [DataFrameCodeGeneratorNode] agent.TEST_01.2025-08-20-16-1827.DataFrameCodeGeneratorNode: DF CodeGen end\n",
      "2025-08-20 16:22:25,964 [INFO] [DataFrameCodeExecutorNode] agent.TEST_01.2025-08-20-16-1827.DataFrameCodeExecutorNode: Executing df_code …\n",
      "2025-08-20 16:22:25,980 [DEBUG] [DataFrameCodeExecutorNode] agent.TEST_01.2025-08-20-16-1827.DataFrameCodeExecutorNode: Collected DF meta: {'name': 'semester_gpa_trend', 'path': '/home/pollu/transcript_insight/analyst_agent/react_code_agent/test/result/users/TEST_01/2025-08-20-16-1827/artifacts/1755674545_semester_gpa_trend.csv', 'rows': 8, 'schema': {'year': 'int64', 'semester': 'object', 'gpa': 'float64'}, 'format': 'csv'}\n",
      "2025-08-20 16:22:25,981 [INFO] [DataFrameCodeExecutorNode] agent.TEST_01.2025-08-20-16-1827.DataFrameCodeExecutorNode: \n",
      "2025-08-20 16:22:25,982 [INFO] [DataFrameCodeExecutorNode] agent.TEST_01.2025-08-20-16-1827.DataFrameCodeExecutorNode: DataFrame execution node completed\n",
      "2025-08-20 16:22:25,983 [DEBUG] [DataFrameCodeExecutorNode] agent.TEST_01.2025-08-20-16-1827.DataFrameCodeExecutorNode: DF handles: ['semester_gpa_trend']\n",
      "2025-08-20 16:22:25,984 [DEBUG] [DataFrameCodeExecutorNode] agent.TEST_01.2025-08-20-16-1827.DataFrameCodeExecutorNode: DF meta: {'name': 'semester_gpa_trend', 'path': '/home/pollu/transcript_insight/analyst_agent/react_code_agent/test/result/users/TEST_01/2025-08-20-16-1827/artifacts/1755674545_semester_gpa_trend.csv', 'rows': 8, 'schema': {'year': 'int64', 'semester': 'object', 'gpa': 'float64'}, 'format': 'csv'}\n",
      "2025-08-20 16:22:25,989 [INFO] [DataFrameAgentExecutorNode] agent.TEST_01.2025-08-20-16-1827.DataFrameAgentExecutorNode:  Finished in 4.04 second\n",
      "2025-08-20 16:22:25,991 [INFO] [DataFrameAgentExecutorNode] agent.TEST_01.2025-08-20-16-1827.DataFrameAgentExecutorNode: ====< END >====\n",
      "2025-08-20 16:22:25,995 [INFO] [RouterNode] agent.TEST_01.2025-08-20-16-1827.RouterNode: ====< START >====\n",
      "2025-08-20 16:22:26,002 [INFO] [RouterNode] agent.TEST_01.2025-08-20-16-1827.RouterNode: [RouterNode] LLM chain constructed (prompt → llm → structured output)\n",
      "2025-08-20 16:22:26,003 [DEBUG] [RouterNode] agent.TEST_01.2025-08-20-16-1827.RouterNode: [RouterNode] Input preview: {'user_query': '학기별 GPA(학점)변화를 볼 수 있는 그래프를 그려줘줘', 'df_name': 'semester_gpa_trend', 'df_desc': '학기별 연도와 학기, GPA 정보를 추출하여 학기별 GPA 변화를 확인할 수 있도록 정리한 데이터프레임입니다.', 'chart_name': '', 'chart_desc': '', 'previous_node': 'df_exec'}\n",
      "2025-08-20 16:22:26,004 [INFO] [RouterNode] agent.TEST_01.2025-08-20-16-1827.RouterNode: [RouterNode] Invoking LLM for route decision …\n"
     ]
    },
    {
     "name": "stdout",
     "output_type": "stream",
     "text": [
      "---CODE VALIDITY CHECKER---\n",
      "---CONTINUE---\n"
     ]
    },
    {
     "name": "stderr",
     "output_type": "stream",
     "text": [
      "2025-08-20 16:22:27,067 [INFO] [RouterNode] agent.TEST_01.2025-08-20-16-1827.RouterNode: [RouterNode] LLM invocation completed\n",
      "2025-08-20 16:22:27,071 [INFO] [RouterNode] agent.TEST_01.2025-08-20-16-1827.RouterNode: [RouterNode] Decision → action=to_gen_chart\n",
      "2025-08-20 16:22:27,076 [DEBUG] [RouterNode] agent.TEST_01.2025-08-20-16-1827.RouterNode: [RouterNode] Reason: 사용자가 그래프 생성을 요청하였고, 관련 데이터프레임이 존재하므로 차트를 생성해야 합니다.\n",
      "2025-08-20 16:22:27,079 [DEBUG] [RouterNode] agent.TEST_01.2025-08-20-16-1827.RouterNode: [RouterNode] Notes: x=학기, y=GPA 시계열 그래프\n",
      "2025-08-20 16:22:27,083 [INFO] [RouterNode] agent.TEST_01.2025-08-20-16-1827.RouterNode: to_gen_chart\n",
      "2025-08-20 16:22:27,086 [INFO] [RouterNode] agent.TEST_01.2025-08-20-16-1827.RouterNode:  Finished in 1.09 second\n",
      "2025-08-20 16:22:27,089 [INFO] [RouterNode] agent.TEST_01.2025-08-20-16-1827.RouterNode: ====< END >====\n",
      "2025-08-20 16:22:27,116 [INFO] [ChartAgentExecutorNode] agent.TEST_01.2025-08-20-16-1827.ChartAgentExecutorNode: ====< START >====\n",
      "2025-08-20 16:22:27,281 [INFO] [ChartAgentExecutorNode] agent.TEST_01.2025-08-20-16-1827.ChartAgentExecutorNode: Invoking chart_code_react_agent …\n",
      "2025-08-20 16:22:27,283 [DEBUG] [ChartAgentExecutorNode] agent.TEST_01.2025-08-20-16-1827.ChartAgentExecutorNode: chart_code_react_agent input preview: {'user_query': '학기별 GPA(학점)변화를 볼 수 있는 그래프를 그려줘줘', 'df_name': 'semester_gpa_trend', 'df_desc': '학기별 연도와 학기, GPA 정보를 추출하여 학기별 GPA 변화를 확인할 수 있도록 정리한 데이터프레임입니다.', 'chart_name': '', 'chart_desc': '', 'csv_path': '/home/pollu/transcript_insight/analyst_agent/react_code_agent/test/result/users/TEST_01/2025-08-20-16-1827/artifacts/1755674545_semester_gpa_trend.csv', 'run_id': '2025-08-20-16-1827', 'df_meta': {'name': 'semester_gpa_trend', 'path': '/home/pollu/transcript_insight/analyst_agent/react_code_agent/test/result/users/TEST_01/2025-08-20-16-1827/artifacts/1755674545_semester_gpa_trend.csv', 'rows': 8, 'schema': {'year': 'int64', 'semester': 'object', 'gpa': 'float64'}, 'format': 'csv'}, 'df_code': 'df_name = \"semester_gpa_trend\"\\nimport json\\nimport pandas as pd\\ndata = json.loads(INPUT_DATA)\\n\\nrecords = []\\ntry:\\n    semesters = data.get(\\'semesters\\', [])\\n    for sem in semesters:\\n        year = sem.get(\\'year\\')\\n        semester = sem.get(\\'semester\\')\\n        gpa = sem.get(\\'gpa\\')\\n        if year is not None and semester is not None and gpa is not None:\\n            records.append({\\'year\\': year, \\'semester\\': semester, \\'gpa\\': gpa})\\nexcept Exception:\\n    records = []\\n\\nRESULT_DF = pd.DataFrame(records)\\n\\n# 정렬: 연도 오름차순, 학기 순서대로 정렬 (1학기, 2학기)\\nsemester_order = {\\'1학기\\': 1, \\'2학기\\': 2}\\ntry:\\n    RESULT_DF[\\'semester_order\\'] = RESULT_DF[\\'semester\\'].map(semester_order)\\n    RESULT_DF = RESULT_DF.sort_values(by=[\\'year\\', \\'semester_order\\']).reset_index(drop=True)\\n    RESULT_DF = RESULT_DF.drop(columns=[\\'semester_order\\'])\\nexcept Exception:\\n    pass\\n\\nsave_df(RESULT_DF, df_name)', 'chart_code': '', 'chart_intent': {}, 'stdout': '', 'stderr': '', 'error_logs': '', 'errors': [], 'attempts': 0, 'debug_font': {}, 'img_path': ''}\n",
      "2025-08-20 16:22:27,292 [INFO] [ChartCodeGeneratorNode] agent.TEST_01.2025-08-20-16-1827.ChartCodeGeneratorNode: LLM chain constructed (prompt → llm → JSON parser)\n",
      "2025-08-20 16:22:27,293 [INFO] [ChartCodeGeneratorNode] agent.TEST_01.2025-08-20-16-1827.ChartCodeGeneratorNode: user_query received\n",
      "2025-08-20 16:22:27,295 [DEBUG] [ChartCodeGeneratorNode] agent.TEST_01.2025-08-20-16-1827.ChartCodeGeneratorNode: user_query: 학기별 GPA(학점)변화를 볼 수 있는 그래프를 그려줘줘\n",
      "2025-08-20 16:22:27,296 [DEBUG] [ChartCodeGeneratorNode] agent.TEST_01.2025-08-20-16-1827.ChartCodeGeneratorNode: df_name: semester_gpa_trend\n",
      "2025-08-20 16:22:27,296 [DEBUG] [ChartCodeGeneratorNode] agent.TEST_01.2025-08-20-16-1827.ChartCodeGeneratorNode: df_desc: 학기별 연도와 학기, GPA 정보를 추출하여 학기별 GPA 변화를 확인할 수 있도록 정리한 데이터프레임입니다.\n",
      "2025-08-20 16:22:27,298 [DEBUG] [ChartCodeGeneratorNode] agent.TEST_01.2025-08-20-16-1827.ChartCodeGeneratorNode: csv_path: /home/pollu/transcript_insight/analyst_agent/react_code_agent/test/result/users/TEST_01/2025-08-20-16-1827/artifacts/1755674545_semester_gpa_trend.csv\n",
      "2025-08-20 16:22:27,298 [DEBUG] [ChartCodeGeneratorNode] agent.TEST_01.2025-08-20-16-1827.ChartCodeGeneratorNode: df_code preview: df_name = \"semester_gpa_trend\"\n",
      "import json\n",
      "import pandas as pd\n",
      "data = json.loads(INPUT_DATA)\n",
      "\n",
      "records = []\n",
      "try:\n",
      "    semesters = data.get('semesters', [])\n",
      "    for sem in semesters:\n",
      "        year = sem.get('year')\n",
      "        semester = sem.get('semester')\n",
      "        gpa = sem.get('gpa')\n",
      "        if year is not None and semester is not None and gpa is not None:\n",
      "            records.append({'year': year, 'semester': semester, 'gpa': gpa})\n",
      "except Exception:\n",
      "    records = []\n",
      "\n",
      "RESULT_DF = pd.DataFrame(records)\n",
      "\n",
      "# 정렬: 연도 오름차순, 학기 순서대로 정렬 (1학기, 2학기)\n",
      "semester_order = {'1학기': 1, '2학기': 2}\n",
      "try:\n",
      "    RESULT_DF['semester_order'] = RESULT_DF['semester'].map(semester_order)\n",
      "    RESULT_DF = RESULT_DF.sort_values(by=['year', 'semester_order']).reset_index(drop=True)\n",
      "    RESULT_DF = RESULT_DF.drop(columns=['semester_order'])\n",
      "except Exception:\n",
      "    pass\n",
      "\n",
      "save_df(RESULT_DF, df_name)\n",
      "2025-08-20 16:22:27,302 [INFO] [ChartCodeGeneratorNode] agent.TEST_01.2025-08-20-16-1827.ChartCodeGeneratorNode: Invoking LLM for chart code/info …\n"
     ]
    },
    {
     "name": "stdout",
     "output_type": "stream",
     "text": [
      "---NEXT ACTION CHECKER---\n"
     ]
    },
    {
     "name": "stderr",
     "output_type": "stream",
     "text": [
      "2025-08-20 16:22:37,943 [INFO] [ChartCodeGeneratorNode] agent.TEST_01.2025-08-20-16-1827.ChartCodeGeneratorNode: LLM invocation done\n",
      "2025-08-20 16:22:37,947 [DEBUG] [ChartCodeGeneratorNode] agent.TEST_01.2025-08-20-16-1827.ChartCodeGeneratorNode: raw LLM result: chart_code=\"import pandas as pd\\nimport matplotlib.pyplot as plt\\n\\ndf = pd.DataFrame([{'Unnamed: 0': 0, 'year': 2017, 'semester': '1학기', 'gpa': 3.61}, {'Unnamed: 0': 1, 'year': 2017, 'semester': '2학기', 'gpa': 3.8}, {'Unnamed: 0': 2, 'year': 2018, 'semester': '1학기', 'gpa': 3.66}, {'Unnamed: 0': 3, 'year': 2018, 'semester': '2학기', 'gpa': 3.67}, {'Unnamed: 0': 4, 'year': 2019, 'semester': '1학기', 'gpa': 3.75}, {'Unnamed: 0': 5, 'year': 2019, 'semester': '2학기', 'gpa': 3.58}, {'Unnamed: 0': 6, 'year': 2020, 'semester': '1학기', 'gpa': 3.83}, {'Unnamed: 0': 7, 'year': 2020, 'semester': '2학기', 'gpa': 3.7}])\\n\\ntry:\\n    semester_order = {'1학기': 1, '2학기': 2}\\n    df['semester_order'] = df['semester'].map(semester_order)\\n    df = df.sort_values(by=['year', 'semester_order']).reset_index(drop=True)\\n    df['period'] = df['year'].astype(str) + ' ' + df['semester']\\n    plt.figure(figsize=(10,6))\\n    plt.plot(df['period'], df['gpa'], marker='o', linestyle='-', color='b')\\n    plt.title('Semester GPA Trends')\\n    plt.xlabel('학기')\\n    plt.ylabel('GPA')\\n    plt.xticks(rotation=45)\\n    plt.grid(True, linestyle='--', alpha=0.5)\\n    save_chart(filename='semester_gpa_trends.png', dpi=170)\\nexcept Exception:\\n    pass\" chart_name='Semester GPA Trends' chart_desc='학기별 GPA 변화를 시계열 선 그래프로 시각화하여 각 학기별 학점 추이를 쉽게 파악할 수 있도록 함'\n",
      "2025-08-20 16:22:37,950 [INFO] [ChartCodeGeneratorNode] agent.TEST_01.2025-08-20-16-1827.ChartCodeGeneratorNode: Chart code returned → route to 'code_executor'\n",
      "2025-08-20 16:22:37,953 [INFO] [ChartCodeGeneratorNode] agent.TEST_01.2025-08-20-16-1827.ChartCodeGeneratorNode: chart_code: import pandas as pd\n",
      "import matplotlib.pyplot as plt\n",
      "\n",
      "df = pd.DataFrame([{'Unnamed: 0': 0, 'year': 2017, 'semester': '1학기', 'gpa': 3.61}, {'Unnamed: 0': 1, 'year': 2017, 'semester': '2학기', 'gpa': 3.8}, {'Unnamed: 0': 2, 'year': 2018, 'semester': '1학기', 'gpa': 3.66}, {'Unnamed: 0': 3, 'year': 2018, 'semester': '2학기', 'gpa': 3.67}, {'Unnamed: 0': 4, 'year': 2019, 'semester': '1학기', 'gpa': 3.75}, {'Unnamed: 0': 5, 'year': 2019, 'semester': '2학기', 'gpa': 3.58}, {'Unnamed: 0': 6, 'year': 2020, 'semester': '1학기', 'gpa': 3.83}, {'Unnamed: 0': 7, 'year': 2020, 'semester': '2학기', 'gpa': 3.7}])\n",
      "\n",
      "try:\n",
      "    semester_order = {'1학기': 1, '2학기': 2}\n",
      "    df['semester_order'] = df['semester'].map(semester_order)\n",
      "    df = df.sort_values(by=['year', 'semester_order']).reset_index(drop=True)\n",
      "    df['period'] = df['year'].astype(str) + ' ' + df['semester']\n",
      "    plt.figure(figsize=(10,6))\n",
      "    plt.plot(df['period'], df['gpa'], marker='o', linestyle='-', color='b')\n",
      "    plt.title('Semester GPA Trends')\n",
      "    plt.xlabel('학기')\n",
      "    plt.ylabel('GPA')\n",
      "    plt.xticks(rotation=45)\n",
      "    plt.grid(True, linestyle='--', alpha=0.5)\n",
      "    save_chart(filename='semester_gpa_trends.png', dpi=170)\n",
      "except Exception:\n",
      "    pass\n",
      "2025-08-20 16:22:37,956 [INFO] [ChartCodeGeneratorNode] agent.TEST_01.2025-08-20-16-1827.ChartCodeGeneratorNode: chart_name='Semester GPA Trends'\n",
      "2025-08-20 16:22:37,958 [INFO] [ChartCodeGeneratorNode] agent.TEST_01.2025-08-20-16-1827.ChartCodeGeneratorNode: chart_desc='학기별 GPA 변화를 시계열 선 그래프로 시각화하여 각 학기별 학점 추이를 쉽게 파악할 수 있도록 함'\n",
      "2025-08-20 16:22:37,961 [DEBUG] [ChartCodeGeneratorNode] agent.TEST_01.2025-08-20-16-1827.ChartCodeGeneratorNode: Chart CodeGen end\n",
      "2025-08-20 16:22:37,990 [INFO] [ChartCodeExecutorNode] agent.TEST_01.2025-08-20-16-1827.ChartCodeExecutorNode: Executing chart_code …\n",
      "2025-08-20 16:22:38,284 [INFO] [ChartAgentExecutorNode] agent.TEST_01.2025-08-20-16-1827.ChartAgentExecutorNode:  Finished in 11.16 second\n",
      "2025-08-20 16:22:38,286 [INFO] [ChartAgentExecutorNode] agent.TEST_01.2025-08-20-16-1827.ChartAgentExecutorNode: ====< END >====\n",
      "2025-08-20 16:22:38,289 [INFO] [RouterNode] agent.TEST_01.2025-08-20-16-1827.RouterNode: ====< START >====\n",
      "2025-08-20 16:22:38,296 [INFO] [RouterNode] agent.TEST_01.2025-08-20-16-1827.RouterNode: [RouterNode] LLM chain constructed (prompt → llm → structured output)\n",
      "2025-08-20 16:22:38,298 [DEBUG] [RouterNode] agent.TEST_01.2025-08-20-16-1827.RouterNode: [RouterNode] Input preview: {'user_query': '학기별 GPA(학점)변화를 볼 수 있는 그래프를 그려줘줘', 'df_name': 'semester_gpa_trend', 'df_desc': '학기별 연도와 학기, GPA 정보를 추출하여 학기별 GPA 변화를 확인할 수 있도록 정리한 데이터프레임입니다.', 'chart_name': 'Semester GPA Trends', 'chart_desc': '학기별 GPA 변화를 시계열 선 그래프로 시각화하여 각 학기별 학점 추이를 쉽게 파악할 수 있도록 함', 'previous_node': 'chart_exec'}\n",
      "2025-08-20 16:22:38,299 [INFO] [RouterNode] agent.TEST_01.2025-08-20-16-1827.RouterNode: [RouterNode] Invoking LLM for route decision …\n"
     ]
    },
    {
     "name": "stdout",
     "output_type": "stream",
     "text": [
      "---CODE VALIDITY CHECKER---\n",
      "---CONTINUE---\n"
     ]
    },
    {
     "name": "stderr",
     "output_type": "stream",
     "text": [
      "2025-08-20 16:22:41,684 [INFO] [RouterNode] agent.TEST_01.2025-08-20-16-1827.RouterNode: [RouterNode] LLM invocation completed\n",
      "2025-08-20 16:22:41,686 [INFO] [RouterNode] agent.TEST_01.2025-08-20-16-1827.RouterNode: [RouterNode] Decision → action=finish\n",
      "2025-08-20 16:22:41,687 [DEBUG] [RouterNode] agent.TEST_01.2025-08-20-16-1827.RouterNode: [RouterNode] Reason: DF와 차트가 모두 user_query의 요구를 충족하므로 추가 작업이 필요 없습니다.\n",
      "2025-08-20 16:22:41,688 [INFO] [RouterNode] agent.TEST_01.2025-08-20-16-1827.RouterNode: finish\n",
      "2025-08-20 16:22:41,688 [INFO] [RouterNode] agent.TEST_01.2025-08-20-16-1827.RouterNode:  Finished in 3.40 second\n",
      "2025-08-20 16:22:41,689 [INFO] [RouterNode] agent.TEST_01.2025-08-20-16-1827.RouterNode: ====< END >====\n"
     ]
    },
    {
     "name": "stdout",
     "output_type": "stream",
     "text": [
      "---NEXT ACTION CHECKER---\n",
      "---CODE AGENT FINISH---\n"
     ]
    }
   ],
   "source": [
    "result = graph.invoke(input=input_state, config=config)"
   ]
  },
  {
   "cell_type": "code",
   "execution_count": null,
   "id": "4a3ff2b6",
   "metadata": {},
   "outputs": [],
   "source": [
    "result = graph.invoke(input=input_state, config=config)"
   ]
  }
 ],
 "metadata": {
  "kernelspec": {
   "display_name": ".venv",
   "language": "python",
   "name": "python3"
  },
  "language_info": {
   "codemirror_mode": {
    "name": "ipython",
    "version": 3
   },
   "file_extension": ".py",
   "mimetype": "text/x-python",
   "name": "python",
   "nbconvert_exporter": "python",
   "pygments_lexer": "ipython3",
   "version": "3.10.18"
  }
 },
 "nbformat": 4,
 "nbformat_minor": 5
}
