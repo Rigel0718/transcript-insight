{
 "cells": [
  {
   "cell_type": "code",
   "execution_count": 1,
   "id": "00c69f90",
   "metadata": {},
   "outputs": [
    {
     "data": {
      "text/plain": [
       "True"
      ]
     },
     "execution_count": 1,
     "metadata": {},
     "output_type": "execute_result"
    }
   ],
   "source": [
    "from dotenv import load_dotenv\n",
    "\n",
    "load_dotenv()"
   ]
  },
  {
   "cell_type": "code",
   "execution_count": 2,
   "id": "15359f3f",
   "metadata": {},
   "outputs": [],
   "source": [
    "import os, sys"
   ]
  },
  {
   "cell_type": "code",
   "execution_count": 3,
   "id": "7a9a6d78",
   "metadata": {},
   "outputs": [],
   "source": [
    "sys.path.append(os.path.abspath(os.path.join(os.getcwd(), \"../../..\")))"
   ]
  },
  {
   "cell_type": "code",
   "execution_count": 4,
   "id": "0cfde5c9",
   "metadata": {},
   "outputs": [],
   "source": [
    "from app.analyst_agent.react_code_agent.state import AgentContextState\n",
    "from app.analyst_agent.react_code_agent.graph import react_code_agent\n",
    "from app.base_node import Env, RunLogger"
   ]
  },
  {
   "cell_type": "code",
   "execution_count": 5,
   "id": "88871805",
   "metadata": {},
   "outputs": [],
   "source": [
    "# init_logger\n",
    "logger = RunLogger()"
   ]
  },
  {
   "cell_type": "code",
   "execution_count": 6,
   "id": "f0350793",
   "metadata": {},
   "outputs": [],
   "source": [
    "# init_config_env\n",
    "from datetime import datetime\n",
    "env = Env(\n",
    "    work_dir='./result/',\n",
    "    user_id='Query3',\n",
    "    run_logger=logger\n",
    ")\n",
    "\n",
    "run_id = datetime.now().strftime(\"%Y-%m-%d-%H-%M%S\")\n",
    "\n",
    "config = {\"configurable\": {\"thread_id\": run_id,\"max_iterations\": 30}}"
   ]
  },
  {
   "cell_type": "code",
   "execution_count": 7,
   "id": "4c1e047e",
   "metadata": {},
   "outputs": [],
   "source": [
    "# init graph\n",
    "graph = react_code_agent(verbose=True, env=env, track_time=True)"
   ]
  },
  {
   "cell_type": "code",
   "execution_count": 8,
   "id": "23dbd225",
   "metadata": {},
   "outputs": [],
   "source": [
    "import json\n",
    "file_path = 'data/virtual_data01.json'\n",
    "with open(file_path, 'r', encoding='utf-8') as f:\n",
    "    data_dict = json.load(f)\n",
    "\n",
    "text_for_llm = json.dumps(data_dict, ensure_ascii=False, indent=2)"
   ]
  },
  {
   "cell_type": "code",
   "execution_count": 9,
   "id": "9f7d4b24",
   "metadata": {},
   "outputs": [],
   "source": [
    "query1 = '학기별 GPA(학점)변화를 볼 수 있는 그래프를 그려줘'\n",
    "query2 = '전체 이수 과목(credit_course)에서 전공과 비전공 이수학점(credits) 비율을 원 그래프를 활용해서 표현해줘'\n",
    "query3 = '이수 과목(credit_course)에서 category별 비율을 원 그래프로 표현해줘 ()'"
   ]
  },
  {
   "cell_type": "code",
   "execution_count": 10,
   "id": "2aa8ec63",
   "metadata": {},
   "outputs": [],
   "source": [
    "input_state : AgentContextState = {\n",
    "    'user_query': query3,\n",
    "    'dataset': text_for_llm,\n",
    "    'run_id':run_id,\n",
    "    'attempts': {},\n",
    "    'errors': [],\n",
    "    'chart_name':'',\n",
    "    'chart_desc':'',\n",
    "    'chart_code': '',\n",
    "    'img_path': '',\n",
    "    'csv_path':'',\n",
    "    'df_code': '',\n",
    "    'df_name':'',\n",
    "    'df_desc':'',\n",
    "    'df_meta':{},\n",
    "    'previous_node':'_START_',\n",
    "    'next_action': ''\n",
    "}"
   ]
  },
  {
   "cell_type": "code",
   "execution_count": 11,
   "id": "04b715f1",
   "metadata": {},
   "outputs": [
    {
     "name": "stderr",
     "output_type": "stream",
     "text": [
      "2025-08-21 21:57:04,647 [INFO] [RouterNode] agent.Query3.2025-08-21-21-5704.RouterNode: ====< START >====\n",
      "2025-08-21 21:57:04,656 [INFO] [RouterNode] agent.Query3.2025-08-21-21-5704.RouterNode: [RouterNode] LLM chain constructed (prompt → llm → structured output)\n",
      "2025-08-21 21:57:04,657 [DEBUG] [RouterNode] agent.Query3.2025-08-21-21-5704.RouterNode: [RouterNode] Input preview: {'user_query': '이수 과목(credit_course)에서 category별 비율을 원 그래프로 표현해줘 ()', 'df_name': '', 'df_desc': '', 'chart_name': '', 'chart_desc': '', 'previous_node': '_START_'}\n",
      "2025-08-21 21:57:04,659 [INFO] [RouterNode] agent.Query3.2025-08-21-21-5704.RouterNode: [RouterNode] Invoking LLM for route decision …\n"
     ]
    },
    {
     "name": "stderr",
     "output_type": "stream",
     "text": [
      "2025-08-21 21:57:06,395 [INFO] [RouterNode] agent.Query3.2025-08-21-21-5704.RouterNode: [RouterNode] LLM invocation completed\n",
      "2025-08-21 21:57:06,397 [INFO] [RouterNode] agent.Query3.2025-08-21-21-5704.RouterNode: [RouterNode] Decision → action=to_gen_df\n",
      "2025-08-21 21:57:06,398 [DEBUG] [RouterNode] agent.Query3.2025-08-21-21-5704.RouterNode: [RouterNode] Reason: 차트 요청이지만 DF가 없어 먼저 데이터프레임을 생성해야 합니다.\n",
      "2025-08-21 21:57:06,400 [DEBUG] [RouterNode] agent.Query3.2025-08-21-21-5704.RouterNode: [RouterNode] Notes: category별 비율을 계산할 수 있는 이수 과목 데이터 필요\n",
      "2025-08-21 21:57:06,401 [INFO] [RouterNode] agent.Query3.2025-08-21-21-5704.RouterNode: to_gen_df\n",
      "2025-08-21 21:57:06,402 [INFO] [RouterNode] agent.Query3.2025-08-21-21-5704.RouterNode:  Finished in 1.75 second\n",
      "2025-08-21 21:57:06,403 [INFO] [RouterNode] agent.Query3.2025-08-21-21-5704.RouterNode: ====< END >====\n",
      "2025-08-21 21:57:06,410 [INFO] [DataFrameAgentExecutorNode] agent.Query3.2025-08-21-21-5704.DataFrameAgentExecutorNode: ====< START >====\n",
      "2025-08-21 21:57:06,488 [INFO] [DataFrameCodeGeneratorNode] agent.Query3.2025-08-21-21-5704.DataFrameCodeGeneratorNode: LLM chain constructed (prompt → llm → JSON parser)\n",
      "2025-08-21 21:57:06,490 [DEBUG] [DataFrameCodeGeneratorNode] agent.Query3.2025-08-21-21-5704.DataFrameCodeGeneratorNode: chain input preview: {'user_query': '이수 과목(credit_course)에서 category별 비율을 원 그래프로 표현해줘 ()', 'dataset': '{\\n  \"student_info\": {\\n    \"name\": \"김민지\",\\n    \"university\": \"연세대학교\",\\n    \"department\": \"컴퓨터과학과\",\\n    \"degree\": \"공학사\",\\n    \"date_of_birth\": \"1998-02-15\",\\n    \"gender\": \"여\",\\n    \"admission_date\": \"2017-03-02\",\\n    \"graduation_date\": \"2021-08-17\",\\n    \"degree_number\": \"연세대2021(학)1234\"\\n  },\\n  \"semesters\": [\\n    {\\n      \"year\": 2017,\\n      \"semester\": \"1학기\",\\n      \"courses\": [\\n        {\\n          \"name\": \"프로그래밍기초\",\\n          \"grade\": \"A0\",\\n          \"credits\": 3.0,\\n          \"category\": \"D\"\\n        },\\n        {\\n          \"name\": \"미적분학 I\",\\n          \"grade\": \"B0\",\\n          \"credits\": 3.0,\\n          \"category\": \"D\"\\n        },\\n        {\\n          \"name\": \"컴퓨터개론\",\\n          \"grade\": \"A0\",\\n          \"credits\": 3.0,\\n          \"category\": \"D\"\\n        },\\n        {\\n          \"name\": \"영어읽기\",\\n          \"grade\": \"B+\",\\n          \"credits\": 2.0,\\n          \"category\": \"V\"\\n        },\\n        {\\n          \"name\": \"일반물리학 I\",\\n          \"grade\": \"B+\",\\n          \"credits\": 3.0,\\n          \"category\": \"Y\"\\n        },\\n        {\\n          \"name\": \"대학생활과진로\",\\n          \"grade\": \"P\",\\n          \"credits\": 1.0,\\n          \"category\": \"Z\"\\n        }\\n      ],\\n      \"total_credits\": 15.0,\\n      \"gpa\": 3.61,\\n      \"percentage\": 91.1\\n    },\\n    {\\n      \"year\": 2017,\\n      \"semester\": \"2학기\",\\n      \"courses\": [\\n        {\\n          \"name\": \"자료구조\",\\n          \"grade\": \"A+\",\\n          \"credits\": 3.0,\\n          \"category\": \"D\"\\n        },\\n        {\\n          \"name\": \"선형대수학\",\\n          \"grade\": \"A0\",\\n          \"credits\": 3.0,\\n          \"category\": \"D\"\\n        },\\n        {\\n          \"name\": \"이산수학\",\\n          \"grade\": \"B+\",\\n          \"credits\": 3.0,\\n          \"category\": \"D\"\\n        },\\n        {\\n          \"name\": \"디지털논리\",\\n          \"grade\": \"A0\",\\n          \"credits\": 3.0,\\n          \"category\": \"D\"\\n        },\\n        {\\n          \"name\": \"한국사\",\\n          \"grade\": \"B0\",\\n          \"credits\": 3.0,\\n          \"category\": \"Y\"\\n        },\\n        {\\n          \"name\": \"체육\",\\n          \"grade\": \"P\",\\n          \"credits\": 1.0,\\n          \"category\": \"Z\"\\n        }\\n      ],\\n      \"total_credits\": 16.0,\\n      \"gpa\": 3.8,\\n      \"percentage\": 93.0\\n    },\\n    {\\n      \"year\": 2018,\\n      \"semester\": \"1학기\",\\n      \"courses\": [\\n        {\\n          \"name\": \"알고리즘\",\\n          \"grade\": \"A0\",\\n          \"credits\": 3.0,\\n          \"category\": \"D\"\\n        },\\n        {\\n          \"name\": \"컴퓨터구조\",\\n          \"grade\": \"B+\",\\n          \"credits\": 3.0,\\n          \"category\": \"D\"\\n        },\\n        {\\n          \"name\": \"확률및통계\",\\n          \"grade\": \"B0\",\\n          \"credits\": 3.0,\\n          \"category\": \"D\"\\n        },\\n        {\\n          \"name\": \"운영체제\",\\n          \"grade\": \"A0\",\\n          \"credits\": 3.0,\\n          \"category\": \"D\"\\n        },\\n        {\\n          \"name\": \"글쓰기\",\\n          \"grade\": \"A0\",\\n          \"credits\": 2.0,\\n          \"category\": \"V\"\\n        },\\n        {\\n          \"name\": \"영어회화\",\\n          \"grade\": \"B+\",\\n          \"credits\": 2.0,\\n          \"category\": \"V\"\\n        }\\n      ],\\n      \"total_credits\": 16.0,\\n      \"gpa\": 3.66,\\n      \"percentage\": 91.6\\n    },\\n    {\\n      \"year\": 2018,\\n      \"semester\": \"2학기\",\\n      \"courses\": [\\n        {\\n          \"name\": \"데이터베이스\",\\n          \"grade\": \"A0\",\\n          \"credits\": 3.0,\\n          \"category\": \"D\"\\n        },\\n        {\\n          \"name\": \"컴퓨터네트워크\",\\n          \"grade\": \"B+\",\\n          \"credits\": 3.0,\\n          \"category\": \"D\"\\n        },\\n        {\\n          \"name\": \"소프트웨어공학\",\\n          \"grade\": \"A0\",\\n          \"credits\": 3.0,\\n          \"category\": \"D\"\\n        },\\n        {\\n          \"name\": \"전자기학\",\\n          \"grade\": \"B0\",\\n          \"credits\": 3.0,\\n          \"category\": \"D\"\\n        },\\n        {\\n          \"name\": \"경제학개론\",\\n          \"grade\": \"A0\",\\n          \"credits\": 3.0,\\n          \"category\": \"Y\"\\n        },\\n        {\\n          \"name\": \"철학개론\",\\n          \"grade\": \"B+\",\\n          \"credits\": 3.0,\\n          \"category\": \"Y\"\\n        },\\n        {\\n          \"name\": \"합창단\",\\n          \"grade\": \"P\",\\n          \"credits\": 1.0,\\n          \"category\": \"Z\"\\n        }\\n      ],\\n      \"total_credits\": 19.0,\\n      \"gpa\": 3.67,\\n      \"percentage\": 91.7\\n    },\\n    {\\n      \"year\": 2019,\\n      \"semester\": \"1학기\",\\n      \"courses\": [\\n        {\\n          \"name\": \"인공지능개론\",\\n          \"grade\": \"A+\",\\n          \"credits\": 3.0,\\n          \"category\": \"D\"\\n        },\\n        {\\n          \"name\": \"운영체제설계\",\\n          \"grade\": \"A0\",\\n          \"credits\": 3.0,\\n          \"category\": \"D\"\\n        },\\n        {\\n          \"name\": \"컴퓨터그래픽스\",\\n          \"grade\": \"B+\",\\n          \"credits\": 3.0,\\n          \"category\": \"D\"\\n        },\\n        {\\n          \"name\": \"수치해석\",\\n          \"grade\": \"B0\",\\n          \"credits\": 3.0,\\n          \"category\": \"D\"\\n        },\\n        {\\n          \"name\": \"현대문학\",\\n          \"grade\": \"B+\",\\n          \"credits\": 3.0,\\n          \"category\": \"Y\"\\n        },\\n        {\\n          \"name\": \"통계학\",\\n          \"grade\": \"A0\",\\n          \"credits\": 3.0,\\n          \"category\": \"D\"\\n        }\\n      ],\\n      \"total_credits\": 18.0,\\n      \"gpa\": 3.75,\\n      \"percentage\": 92.5\\n    },\\n    {\\n      \"year\": 2019,\\n      \"semester\": \"2학기\",\\n      \"courses\": [\\n        {\\n          \"name\": \"머신러닝\",\\n          \"grade\": \"A0\",\\n          \"credits\": 3.0,\\n          \"category\": \"D\"\\n        },\\n        {\\n          \"name\": \"컴퓨터보안\",\\n          \"grade\": \"B+\",\\n          \"credits\": 3.0,\\n          \"category\": \"D\"\\n        },\\n        {\\n          \"name\": \"임베디드시스템\",\\n          \"grade\": \"B0\",\\n          \"credits\": 3.0,\\n          \"category\": \"D\"\\n        },\\n        {\\n          \"name\": \"인간-컴퓨터 상호작용\",\\n          \"grade\": \"A0\",\\n          \"credits\": 3.0,\\n          \"category\": \"D\"\\n        },\\n        {\\n          \"name\": \"사회학개론\",\\n          \"grade\": \"B+\",\\n          \"credits\": 3.0,\\n          \"category\": \"Y\"\\n        },\\n        {\\n          \"name\": \"경영학원론\",\\n          \"grade\": \"B+\",\\n          \"credits\": 3.0,\\n          \"category\": \"Y\"\\n        },\\n        {\\n          \"name\": \"요가\",\\n          \"grade\": \"P\",\\n          \"credits\": 1.0,\\n          \"category\": \"Z\"\\n        }\\n      ],\\n      \"total_credits\": 19.0,\\n      \"gpa\": 3.58,\\n      \"percentage\": 90.8\\n    },\\n    {\\n      \"year\": 2020,\\n      \"semester\": \"1학기\",\\n      \"courses\": [\\n        {\\n          \"name\": \"데이터마이닝\",\\n          \"grade\": \"A0\",\\n          \"credits\": 3.0,\\n          \"category\": \"D\"\\n        },\\n        {\\n          \"name\": \"빅데이터개론\",\\n          \"grade\": \"A0\",\\n          \"credits\": 3.0,\\n          \"category\": \"D\"\\n        },\\n        {\\n          \"name\": \"컴파일러\",\\n          \"grade\": \"B+\",\\n          \"credits\": 3.0,\\n          \"category\": \"D\"\\n        },\\n        {\\n          \"name\": \"게임프로그래밍\",\\n          \"grade\": \"A+\",\\n          \"credits\": 3.0,\\n          \"category\": \"D\"\\n        },\\n        {\\n          \"name\": \"정보이론\",\\n          \"grade\": \"B0\",\\n          \"credits\": 3.0,\\n          \"category\": \"D\"\\n        },\\n        {\\n          \"name\": \"창업과경영\",\\n          \"grade\": \"A0\",\\n          \"credits\": 3.0,\\n          \"category\": \"Y\"\\n        },\\n        {\\n          \"name\": \"취업세미나\",\\n          \"grade\": \"P\",\\n          \"credits\": 1.0,\\n          \"category\": \"Z\"\\n        }\\n      ],\\n      \"total_credits\": 19.0,\\n      \"gpa\": 3.83,\\n      \"percentage\": 93.3\\n    },\\n    {\\n      \"year\": 2020,\\n      \"semester\": \"2학기\",\\n      \"courses\": [\\n        {\\n          \"name\": \"캡스톤디자인\",\\n          \"grade\": \"A+\",\\n          \"credits\": 3.0,\\n          \"category\": \"D\"\\n        },\\n        {\\n          \"name\": \"딥러닝\",\\n          \"grade\": \"A0\",\\n          \"credits\": 3.0,\\n          \"category\": \"D\"\\n        },\\n        {\\n          \"name\": \"분산시스템\",\\n          \"grade\": \"A0\",\\n          \"credits\": 3.0,\\n          \"category\": \"D\"\\n        },\\n        {\\n          \"name\": \"네트워크보안\",\\n          \"grade\": \"B+\",\\n          \"credits\": 3.0,\\n          \"category\": \"D\"\\n        },\\n        {\\n          \"name\": \"프로젝트관리\",\\n          \"grade\": \"B0\",\\n          \"credits\": 3.0,\\n          \"category\": \"D\"\\n        },\\n        {\\n          \"name\": \"문화예술과사회\",\\n          \"grade\": \"B0\",\\n          \"credits\": 3.0,\\n          \"category\": \"Y\"\\n        },\\n        {\\n          \"name\": \"미술의이해\",\\n          \"grade\": \"A0\",\\n          \"credits\": 2.0,\\n          \"category\": \"Z\"\\n        },\\n        {\\n          \"name\": \"디지털음악\",\\n          \"grade\": \"P\",\\n          \"credits\": 1.0,\\n          \"category\": \"Z\"\\n        }\\n      ],\\n      \"total_credits\": 21.0,\\n      \"gpa\": 3.7,\\n      \"percentage\": 92.0\\n    }\\n  ],\\n  \"credit_summary\": {\\n    \"total_credits\": 143.0,\\n    \"total_gpa_points\": 507.0,\\n    \"overall_gpa\": 3.7,\\n    \"overall_percentage\": 92.0,\\n    \"credits_by_category\": {\\n      \"교양필수(A)\": 0.0,\\n      \"학부기초(M)\": 0.0,\\n      \"기초공통(B)\": 0.0,\\n      \"기초교양(V)\": 6.0,\\n      \"전공필수(C)\": 0.0,\\n      \"전공기초교양(X)\": 0.0,\\n      \"전공선택(D)\": 102.0,\\n      \"핵심교양(Y)\": 27.0,\\n      \"교양선택(E)\": 0.0,\\n      \"자유교양(Z)\": 8.0,\\n      \"일반선택(F)\": 0.0,\\n      \"교직(H)\": 0.0,\\n      \"교양기초(K)\": 0.0,\\n      \"복수전공(J)\": 0.0,\\n      \"계열교양(L)\": 0.0,\\n      \"부전공(G)\": 0.0\\n    },\\n    \"multi_major_credits\": {\\n      \"2전공(계열교양)(PL)\": 0.0,\\n      \"2전공(전공기초교양)(PX)\": 0.0,\\n      \"2전공(학부기초)(PM)\": 0.0,\\n      \"2전공(전공)(PN)\": 0.0,\\n      \"3전공(계열교양)(QL)\": 0.0,\\n      \"3전공(전공기초교양)(QX)\": 0.0,\\n      \"3전공(학부기초)(QM)\": 0.0,\\n      \"3전공(전공)(QN)\": 0.0,\\n      \"연계융합(학부기초)(RM)\": 0.0,\\n      \"연계융합(전공)(RN)\": 0.0\\n    }\\n  }\\n}', 'error_log': ''}\n",
      "2025-08-21 21:57:06,491 [INFO] [DataFrameCodeGeneratorNode] agent.Query3.2025-08-21-21-5704.DataFrameCodeGeneratorNode: Invoking LLM for df_code/df_info …\n"
     ]
    },
    {
     "name": "stdout",
     "output_type": "stream",
     "text": [
      "---NEXT ACTION CHECKER---\n"
     ]
    },
    {
     "name": "stderr",
     "output_type": "stream",
     "text": [
      "2025-08-21 21:57:09,390 [INFO] [DataFrameCodeGeneratorNode] agent.Query3.2025-08-21-21-5704.DataFrameCodeGeneratorNode: LLM invocation done\n",
      "2025-08-21 21:57:09,391 [DEBUG] [DataFrameCodeGeneratorNode] agent.Query3.2025-08-21-21-5704.DataFrameCodeGeneratorNode: raw LLM result: df_code='df_name = \"course_category_credit_ratio\"\\nimport json\\nimport pandas as pd\\ndata = json.loads(INPUT_DATA)\\n\\ncategory_credits = {}\\ntry:\\n    credit_summary = data.get(\\'credit_summary\\', {})\\n    category_credits = credit_summary.get(\\'credits_by_category\\', {})\\nexcept Exception:\\n    category_credits = {}\\n\\n# Convert to DataFrame with category and credits columns\\ntry:\\n    df = pd.DataFrame(list(category_credits.items()), columns=[\\'category\\', \\'credits\\'])\\n    # Filter out zero credits to focus on categories with credits\\n    df = df[df[\\'credits\\'] > 0].reset_index(drop=True)\\nexcept Exception:\\n    df = pd.DataFrame(columns=[\\'category\\', \\'credits\\'])\\n\\nRESULT_DF = df\\nsave_df(RESULT_DF, df_name)' df_name='course_category_credit_ratio' df_desc='이수한 과목들의 학점 합계를 카테고리별로 집계하여 비율 분석에 적합한 데이터프레임으로 생성했습니다.'\n",
      "2025-08-21 21:57:09,392 [INFO] [DataFrameCodeGeneratorNode] agent.Query3.2025-08-21-21-5704.DataFrameCodeGeneratorNode: df_code: df_name = \"course_category_credit_ratio\"\n",
      "import json\n",
      "import pandas as pd\n",
      "data = json.loads(INPUT_DATA)\n",
      "\n",
      "category_credits = {}\n",
      "try:\n",
      "    credit_summary = data.get('credit_summary', {})\n",
      "    category_credits = credit_summary.get('credits_by_category', {})\n",
      "except Exception:\n",
      "    category_credits = {}\n",
      "\n",
      "# Convert to DataFrame with category and credits columns\n",
      "try:\n",
      "    df = pd.DataFrame(list(category_credits.items()), columns=['category', 'credits'])\n",
      "    # Filter out zero credits to focus on categories with credits\n",
      "    df = df[df['credits'] > 0].reset_index(drop=True)\n",
      "except Exception:\n",
      "    df = pd.DataFrame(columns=['category', 'credits'])\n",
      "\n",
      "RESULT_DF = df\n",
      "save_df(RESULT_DF, df_name)\n",
      "2025-08-21 21:57:09,393 [INFO] [DataFrameCodeGeneratorNode] agent.Query3.2025-08-21-21-5704.DataFrameCodeGeneratorNode: df_name: course_category_credit_ratio\n",
      "2025-08-21 21:57:09,394 [INFO] [DataFrameCodeGeneratorNode] agent.Query3.2025-08-21-21-5704.DataFrameCodeGeneratorNode: df_desc: 이수한 과목들의 학점 합계를 카테고리별로 집계하여 비율 분석에 적합한 데이터프레임으로 생성했습니다.\n",
      "2025-08-21 21:57:09,395 [DEBUG] [DataFrameCodeGeneratorNode] agent.Query3.2025-08-21-21-5704.DataFrameCodeGeneratorNode: DF CodeGen end\n",
      "2025-08-21 21:57:09,399 [INFO] [DataFrameCodeExecutorNode] agent.Query3.2025-08-21-21-5704.DataFrameCodeExecutorNode: Executing df_code …\n",
      "2025-08-21 21:57:09,407 [DEBUG] [DataFrameCodeExecutorNode] agent.Query3.2025-08-21-21-5704.DataFrameCodeExecutorNode: Collected DF meta: {'name': 'course_category_credit_ratio', 'path': '/home/pollu/transcript_insight/analyst_agent/react_code_agent/test/result/users/Query3/2025-08-21-21-5704/artifacts/1755781029_course_category_credit_ratio.csv', 'rows': 4, 'schema': {'category': 'object', 'credits': 'float64'}, 'format': 'csv'}\n",
      "2025-08-21 21:57:09,408 [INFO] [DataFrameCodeExecutorNode] agent.Query3.2025-08-21-21-5704.DataFrameCodeExecutorNode: \n",
      "2025-08-21 21:57:09,409 [INFO] [DataFrameCodeExecutorNode] agent.Query3.2025-08-21-21-5704.DataFrameCodeExecutorNode: DataFrame execution node completed\n",
      "2025-08-21 21:57:09,410 [DEBUG] [DataFrameCodeExecutorNode] agent.Query3.2025-08-21-21-5704.DataFrameCodeExecutorNode: DF handles: ['course_category_credit_ratio']\n",
      "2025-08-21 21:57:09,412 [DEBUG] [DataFrameCodeExecutorNode] agent.Query3.2025-08-21-21-5704.DataFrameCodeExecutorNode: DF meta: {'name': 'course_category_credit_ratio', 'path': '/home/pollu/transcript_insight/analyst_agent/react_code_agent/test/result/users/Query3/2025-08-21-21-5704/artifacts/1755781029_course_category_credit_ratio.csv', 'rows': 4, 'schema': {'category': 'object', 'credits': 'float64'}, 'format': 'csv'}\n",
      "2025-08-21 21:57:09,419 [INFO] [DataFrameAgentExecutorNode] agent.Query3.2025-08-21-21-5704.DataFrameAgentExecutorNode:  Finished in 3.01 second\n",
      "2025-08-21 21:57:09,421 [INFO] [DataFrameAgentExecutorNode] agent.Query3.2025-08-21-21-5704.DataFrameAgentExecutorNode: ====< END >====\n",
      "2025-08-21 21:57:09,425 [INFO] [RouterNode] agent.Query3.2025-08-21-21-5704.RouterNode: ====< START >====\n",
      "2025-08-21 21:57:09,433 [INFO] [RouterNode] agent.Query3.2025-08-21-21-5704.RouterNode: [RouterNode] LLM chain constructed (prompt → llm → structured output)\n",
      "2025-08-21 21:57:09,434 [DEBUG] [RouterNode] agent.Query3.2025-08-21-21-5704.RouterNode: [RouterNode] Input preview: {'user_query': '이수 과목(credit_course)에서 category별 비율을 원 그래프로 표현해줘 ()', 'df_name': 'course_category_credit_ratio', 'df_desc': '이수한 과목들의 학점 합계를 카테고리별로 집계하여 비율 분석에 적합한 데이터프레임으로 생성했습니다.', 'chart_name': '', 'chart_desc': '', 'previous_node': 'df_exec'}\n",
      "2025-08-21 21:57:09,435 [INFO] [RouterNode] agent.Query3.2025-08-21-21-5704.RouterNode: [RouterNode] Invoking LLM for route decision …\n"
     ]
    },
    {
     "name": "stdout",
     "output_type": "stream",
     "text": [
      "---CODE VALIDITY CHECKER---\n",
      "---CONTINUE---\n"
     ]
    },
    {
     "name": "stderr",
     "output_type": "stream",
     "text": [
      "2025-08-21 21:57:12,521 [INFO] [RouterNode] agent.Query3.2025-08-21-21-5704.RouterNode: [RouterNode] LLM invocation completed\n",
      "2025-08-21 21:57:12,525 [INFO] [RouterNode] agent.Query3.2025-08-21-21-5704.RouterNode: [RouterNode] Decision → action=to_gen_chart\n",
      "2025-08-21 21:57:12,528 [DEBUG] [RouterNode] agent.Query3.2025-08-21-21-5704.RouterNode: [RouterNode] Reason: 사용자가 원 그래프를 요청하였고, DF가 존재하므로 차트를 생성해야 합니다.\n",
      "2025-08-21 21:57:12,532 [DEBUG] [RouterNode] agent.Query3.2025-08-21-21-5704.RouterNode: [RouterNode] Notes: category별 학점 비율을 원 그래프로 시각화\n",
      "2025-08-21 21:57:12,535 [INFO] [RouterNode] agent.Query3.2025-08-21-21-5704.RouterNode: to_gen_chart\n",
      "2025-08-21 21:57:12,540 [INFO] [RouterNode] agent.Query3.2025-08-21-21-5704.RouterNode:  Finished in 3.11 second\n",
      "2025-08-21 21:57:12,542 [INFO] [RouterNode] agent.Query3.2025-08-21-21-5704.RouterNode: ====< END >====\n",
      "2025-08-21 21:57:12,563 [INFO] [ChartAgentExecutorNode] agent.Query3.2025-08-21-21-5704.ChartAgentExecutorNode: ====< START >====\n",
      "2025-08-21 21:57:12,755 [INFO] [ChartAgentExecutorNode] agent.Query3.2025-08-21-21-5704.ChartAgentExecutorNode: Invoking chart_code_react_agent …\n",
      "2025-08-21 21:57:12,758 [DEBUG] [ChartAgentExecutorNode] agent.Query3.2025-08-21-21-5704.ChartAgentExecutorNode: chart_code_react_agent input preview: {'user_query': '이수 과목(credit_course)에서 category별 비율을 원 그래프로 표현해줘 ()', 'df_name': 'course_category_credit_ratio', 'df_desc': '이수한 과목들의 학점 합계를 카테고리별로 집계하여 비율 분석에 적합한 데이터프레임으로 생성했습니다.', 'chart_name': '', 'chart_desc': '', 'csv_path': '/home/pollu/transcript_insight/analyst_agent/react_code_agent/test/result/users/Query3/2025-08-21-21-5704/artifacts/1755781029_course_category_credit_ratio.csv', 'run_id': '2025-08-21-21-5704', 'df_meta': {'name': 'course_category_credit_ratio', 'path': '/home/pollu/transcript_insight/analyst_agent/react_code_agent/test/result/users/Query3/2025-08-21-21-5704/artifacts/1755781029_course_category_credit_ratio.csv', 'rows': 4, 'schema': {'category': 'object', 'credits': 'float64'}, 'format': 'csv'}, 'df_code': 'df_name = \"course_category_credit_ratio\"\\nimport json\\nimport pandas as pd\\ndata = json.loads(INPUT_DATA)\\n\\ncategory_credits = {}\\ntry:\\n    credit_summary = data.get(\\'credit_summary\\', {})\\n    category_credits = credit_summary.get(\\'credits_by_category\\', {})\\nexcept Exception:\\n    category_credits = {}\\n\\n# Convert to DataFrame with category and credits columns\\ntry:\\n    df = pd.DataFrame(list(category_credits.items()), columns=[\\'category\\', \\'credits\\'])\\n    # Filter out zero credits to focus on categories with credits\\n    df = df[df[\\'credits\\'] > 0].reset_index(drop=True)\\nexcept Exception:\\n    df = pd.DataFrame(columns=[\\'category\\', \\'credits\\'])\\n\\nRESULT_DF = df\\nsave_df(RESULT_DF, df_name)', 'chart_code': '', 'chart_intent': {}, 'stdout': '', 'stderr': '', 'error_logs': '', 'errors': [], 'attempts': 0, 'debug_font': {}, 'img_path': ''}\n"
     ]
    },
    {
     "name": "stdout",
     "output_type": "stream",
     "text": [
      "---NEXT ACTION CHECKER---\n"
     ]
    },
    {
     "name": "stderr",
     "output_type": "stream",
     "text": [
      "2025-08-21 21:57:12,779 [INFO] [ChartCodeGeneratorNode] agent.Query3.2025-08-21-21-5704.ChartCodeGeneratorNode: LLM chain constructed (prompt → llm → JSON parser)\n",
      "2025-08-21 21:57:12,781 [INFO] [ChartCodeGeneratorNode] agent.Query3.2025-08-21-21-5704.ChartCodeGeneratorNode: user_query received\n",
      "2025-08-21 21:57:12,784 [DEBUG] [ChartCodeGeneratorNode] agent.Query3.2025-08-21-21-5704.ChartCodeGeneratorNode: user_query: 이수 과목(credit_course)에서 category별 비율을 원 그래프로 표현해줘 ()\n",
      "2025-08-21 21:57:12,786 [DEBUG] [ChartCodeGeneratorNode] agent.Query3.2025-08-21-21-5704.ChartCodeGeneratorNode: df_name: course_category_credit_ratio\n",
      "2025-08-21 21:57:12,787 [DEBUG] [ChartCodeGeneratorNode] agent.Query3.2025-08-21-21-5704.ChartCodeGeneratorNode: df_desc: 이수한 과목들의 학점 합계를 카테고리별로 집계하여 비율 분석에 적합한 데이터프레임으로 생성했습니다.\n",
      "2025-08-21 21:57:12,789 [DEBUG] [ChartCodeGeneratorNode] agent.Query3.2025-08-21-21-5704.ChartCodeGeneratorNode: csv_path: /home/pollu/transcript_insight/analyst_agent/react_code_agent/test/result/users/Query3/2025-08-21-21-5704/artifacts/1755781029_course_category_credit_ratio.csv\n",
      "2025-08-21 21:57:12,791 [DEBUG] [ChartCodeGeneratorNode] agent.Query3.2025-08-21-21-5704.ChartCodeGeneratorNode: df_code preview: df_name = \"course_category_credit_ratio\"\n",
      "import json\n",
      "import pandas as pd\n",
      "data = json.loads(INPUT_DATA)\n",
      "\n",
      "category_credits = {}\n",
      "try:\n",
      "    credit_summary = data.get('credit_summary', {})\n",
      "    category_credits = credit_summary.get('credits_by_category', {})\n",
      "except Exception:\n",
      "    category_credits = {}\n",
      "\n",
      "# Convert to DataFrame with category and credits columns\n",
      "try:\n",
      "    df = pd.DataFrame(list(category_credits.items()), columns=['category', 'credits'])\n",
      "    # Filter out zero credits to focus on categories with credits\n",
      "    df = df[df['credits'] > 0].reset_index(drop=True)\n",
      "except Exception:\n",
      "    df = pd.DataFrame(columns=['category', 'credits'])\n",
      "\n",
      "RESULT_DF = df\n",
      "save_df(RESULT_DF, df_name)\n",
      "2025-08-21 21:57:12,799 [INFO] [ChartCodeGeneratorNode] agent.Query3.2025-08-21-21-5704.ChartCodeGeneratorNode: Invoking LLM for chart code/info …\n",
      "2025-08-21 21:57:17,133 [INFO] [ChartCodeGeneratorNode] agent.Query3.2025-08-21-21-5704.ChartCodeGeneratorNode: LLM invocation done\n",
      "2025-08-21 21:57:17,135 [DEBUG] [ChartCodeGeneratorNode] agent.Query3.2025-08-21-21-5704.ChartCodeGeneratorNode: raw LLM result: chart_code=\"import matplotlib.pyplot as plt\\nimport pandas as pd\\n\\ntry:\\n    df = pd.DataFrame([{'category': '기초교양(V)', 'credits': 6.0}, {'category': '전공선택(D)', 'credits': 102.0}, {'category': '핵심교양(Y)', 'credits': 27.0}, {'category': '자유교양(Z)', 'credits': 8.0}])\\n    df = df[df['credits'] > 0]\\n    plt.figure(figsize=(7,7))\\n    plt.pie(df['credits'], labels=df['category'], autopct='%1.1f%%', startangle=90, counterclock=False)\\n    plt.title('Credit Distribution by Category')\\n    save_chart(filename='credit_distribution_by_category.png', dpi=170)\\nexcept Exception:\\n    pass\" chart_name='Credit Distribution by Category' chart_desc='이수한 과목들의 학점 합계를 카테고리별로 원 그래프로 시각화하여 각 카테고리별 학점 비율을 한눈에 파악할 수 있도록 함'\n",
      "2025-08-21 21:57:17,137 [INFO] [ChartCodeGeneratorNode] agent.Query3.2025-08-21-21-5704.ChartCodeGeneratorNode: Chart code returned → route to 'code_executor'\n",
      "2025-08-21 21:57:17,137 [INFO] [ChartCodeGeneratorNode] agent.Query3.2025-08-21-21-5704.ChartCodeGeneratorNode: chart_code: import matplotlib.pyplot as plt\n",
      "import pandas as pd\n",
      "\n",
      "try:\n",
      "    df = pd.DataFrame([{'category': '기초교양(V)', 'credits': 6.0}, {'category': '전공선택(D)', 'credits': 102.0}, {'category': '핵심교양(Y)', 'credits': 27.0}, {'category': '자유교양(Z)', 'credits': 8.0}])\n",
      "    df = df[df['credits'] > 0]\n",
      "    plt.figure(figsize=(7,7))\n",
      "    plt.pie(df['credits'], labels=df['category'], autopct='%1.1f%%', startangle=90, counterclock=False)\n",
      "    plt.title('Credit Distribution by Category')\n",
      "    save_chart(filename='credit_distribution_by_category.png', dpi=170)\n",
      "except Exception:\n",
      "    pass\n",
      "2025-08-21 21:57:17,139 [INFO] [ChartCodeGeneratorNode] agent.Query3.2025-08-21-21-5704.ChartCodeGeneratorNode: chart_name='Credit Distribution by Category'\n",
      "2025-08-21 21:57:17,140 [INFO] [ChartCodeGeneratorNode] agent.Query3.2025-08-21-21-5704.ChartCodeGeneratorNode: chart_desc='이수한 과목들의 학점 합계를 카테고리별로 원 그래프로 시각화하여 각 카테고리별 학점 비율을 한눈에 파악할 수 있도록 함'\n",
      "2025-08-21 21:57:17,141 [DEBUG] [ChartCodeGeneratorNode] agent.Query3.2025-08-21-21-5704.ChartCodeGeneratorNode: Chart CodeGen end\n",
      "2025-08-21 21:57:17,159 [INFO] [ChartCodeExecutorNode] agent.Query3.2025-08-21-21-5704.ChartCodeExecutorNode: Executing chart_code …\n",
      "2025-08-21 21:57:17,356 [INFO] [ChartAgentExecutorNode] agent.Query3.2025-08-21-21-5704.ChartAgentExecutorNode:  Finished in 4.79 second\n",
      "2025-08-21 21:57:17,357 [INFO] [ChartAgentExecutorNode] agent.Query3.2025-08-21-21-5704.ChartAgentExecutorNode: ====< END >====\n",
      "2025-08-21 21:57:17,361 [INFO] [RouterNode] agent.Query3.2025-08-21-21-5704.RouterNode: ====< START >====\n",
      "2025-08-21 21:57:17,368 [INFO] [RouterNode] agent.Query3.2025-08-21-21-5704.RouterNode: [RouterNode] LLM chain constructed (prompt → llm → structured output)\n",
      "2025-08-21 21:57:17,369 [DEBUG] [RouterNode] agent.Query3.2025-08-21-21-5704.RouterNode: [RouterNode] Input preview: {'user_query': '이수 과목(credit_course)에서 category별 비율을 원 그래프로 표현해줘 ()', 'df_name': 'course_category_credit_ratio', 'df_desc': '이수한 과목들의 학점 합계를 카테고리별로 집계하여 비율 분석에 적합한 데이터프레임으로 생성했습니다.', 'chart_name': 'Credit Distribution by Category', 'chart_desc': '이수한 과목들의 학점 합계를 카테고리별로 원 그래프로 시각화하여 각 카테고리별 학점 비율을 한눈에 파악할 수 있도록 함', 'previous_node': 'chart_exec'}\n",
      "2025-08-21 21:57:17,370 [INFO] [RouterNode] agent.Query3.2025-08-21-21-5704.RouterNode: [RouterNode] Invoking LLM for route decision …\n"
     ]
    },
    {
     "name": "stdout",
     "output_type": "stream",
     "text": [
      "---CODE VALIDITY CHECKER---\n",
      "---CONTINUE---\n"
     ]
    },
    {
     "name": "stderr",
     "output_type": "stream",
     "text": [
      "2025-08-21 21:57:18,630 [INFO] [RouterNode] agent.Query3.2025-08-21-21-5704.RouterNode: [RouterNode] LLM invocation completed\n",
      "2025-08-21 21:57:18,632 [INFO] [RouterNode] agent.Query3.2025-08-21-21-5704.RouterNode: [RouterNode] Decision → action=finish\n",
      "2025-08-21 21:57:18,633 [DEBUG] [RouterNode] agent.Query3.2025-08-21-21-5704.RouterNode: [RouterNode] Reason: DF와 차트가 모두 user_query의 요구를 충족하므로 추가 작업이 필요 없습니다.\n",
      "2025-08-21 21:57:18,634 [INFO] [RouterNode] agent.Query3.2025-08-21-21-5704.RouterNode: finish\n",
      "2025-08-21 21:57:18,635 [INFO] [RouterNode] agent.Query3.2025-08-21-21-5704.RouterNode:  Finished in 1.27 second\n",
      "2025-08-21 21:57:18,636 [INFO] [RouterNode] agent.Query3.2025-08-21-21-5704.RouterNode: ====< END >====\n"
     ]
    },
    {
     "name": "stdout",
     "output_type": "stream",
     "text": [
      "---NEXT ACTION CHECKER---\n",
      "---CODE AGENT FINISH---\n"
     ]
    }
   ],
   "source": [
    "result = graph.invoke(input=input_state, config=config)"
   ]
  }
 ],
 "metadata": {
  "kernelspec": {
   "display_name": ".venv",
   "language": "python",
   "name": "python3"
  },
  "language_info": {
   "codemirror_mode": {
    "name": "ipython",
    "version": 3
   },
   "file_extension": ".py",
   "mimetype": "text/x-python",
   "name": "python",
   "nbconvert_exporter": "python",
   "pygments_lexer": "ipython3",
   "version": "3.10.18"
  }
 },
 "nbformat": 4,
 "nbformat_minor": 5
}
